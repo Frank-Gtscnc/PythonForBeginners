{
 "cells": [
  {
   "cell_type": "markdown",
   "metadata": {},
   "source": [
    "## 1  Mystery Code \n",
    "\n",
    "What will be the result of running the following code? Guess, and then run the code to see if you’re right.\n",
    "```\n",
    "    a = abs(10) + abs(-10) \n",
    "    print(a) \n",
    "    b = abs(-10) + -10 \n",
    "    print(b)\n",
    "\n",
    "```\n"
   ]
  },
  {
   "cell_type": "markdown",
   "metadata": {},
   "source": [
    "Solution: 20, 0"
   ]
  },
  {
   "cell_type": "markdown",
   "metadata": {},
   "source": [
    "## 2  A Hidden Message \n",
    "\n",
    "Try using dir and help to find out how to break a string into words, and then create a small program to print every other word in the following string, starting with the first word (this):\n",
    "\n",
    "\"this if is you not are a reading very this good then way you to have hide done a it message wrong\"\n"
   ]
  },
  {
   "cell_type": "code",
   "execution_count": 12,
   "metadata": {
    "collapsed": false
   },
   "outputs": [
    {
     "name": "stdout",
     "output_type": "stream",
     "text": [
      "this is not a very good way to hide a message "
     ]
    }
   ],
   "source": [
    "message = \"this if is you not are a reading very this good then way you to have hide done a it message wrong\"\n",
    "# put your program at below\n",
    "\n",
    "wordList = message.split()\n",
    "shouldPrint = True\n",
    "for w in wordList:\n",
    "    if shouldPrint == True:\n",
    "        print(w, end=\" \")\n",
    "    shouldPrint = not shouldPrint\n"
   ]
  },
  {
   "cell_type": "markdown",
   "metadata": {},
   "source": [
    "## 3: Copying a file\n",
    "\n",
    "Create a Python program to copy a file. \n",
    "(Hint: You’ll need to open the file that you want to copy, read it in, and then create a new file—the copy.) \n",
    "Check that your program works by printing the contents of the new file on the screen.\n",
    "\n",
    "[Python File Reading and Writing](http://www.pythonforbeginners.com/files/reading-and-writing-files-in-python)\n"
   ]
  },
  {
   "cell_type": "code",
   "execution_count": 7,
   "metadata": {
    "collapsed": true
   },
   "outputs": [],
   "source": [
    "fFrom = open('test.txt') \n",
    "content = fFrom.read() \n",
    "fFrom.close()\n",
    "\n",
    "fTo = open('output.txt', 'w') \n",
    "fTo.write(content) \n",
    "fTo.close() "
   ]
  },
  {
   "cell_type": "code",
   "execution_count": null,
   "metadata": {
    "collapsed": true
   },
   "outputs": [],
   "source": [
    "# Here is another shorter solution\n",
    "# it is using a Python module called shutil\n",
    "\n",
    "import shutil \n",
    "\n",
    "shutil.copy('test.txt', 'output.txt')"
   ]
  },
  {
   "cell_type": "markdown",
   "metadata": {},
   "source": [
    "## 4 Write a python program to find the longest words."
   ]
  },
  {
   "cell_type": "code",
   "execution_count": 6,
   "metadata": {
    "collapsed": false
   },
   "outputs": [
    {
     "name": "stdout",
     "output_type": "stream",
     "text": [
      "Max length word is billionaire: 11\n",
      "Max length word is billionaire: 11\n"
     ]
    }
   ],
   "source": [
    "content = \"SpaceX set a brisk pace this week, with two successful launches of the Falcon 9 rocket. The second launch by the company – whose chief executive is its billionaire founder, Elon Musk – re-used a previously flown first stage booster, increasing confidence that SpaceX could deliver re-useable rockets and so drive down launch costs.\"\n",
    "\n",
    "# Write your program at below\n",
    "\n",
    "\n",
    "# replace comma and period with space\n",
    "content = content.replace(',', ' ')\n",
    "content = content.replace('.', ' ')\n",
    "\n",
    "# split\n",
    "words = content.split()\n",
    "\n",
    "# solution 1: use max() with a comparasion function\n",
    "max_word = max(words, key=len)\n",
    "max_len = len(max_word)\n",
    "print(\"Max length word is %s: %d\" % (max_word, max_len))\n",
    "\n",
    "# solution 2\n",
    "max_len = 0\n",
    "for word in words:\n",
    "    if max_len < len(word):\n",
    "        max_len = len(word)\n",
    "        max_word = word\n",
    "print(\"Max length word is %s: %d\" % (max_word, max_len))\n"
   ]
  },
  {
   "cell_type": "markdown",
   "metadata": {},
   "source": [
    "## 5\n",
    "Write a Python program that takes two lists and print out all of their common members."
   ]
  },
  {
   "cell_type": "code",
   "execution_count": 1,
   "metadata": {
    "collapsed": false
   },
   "outputs": [
    {
     "name": "stdout",
     "output_type": "stream",
     "text": [
      "2\n",
      "67\n",
      "52\n",
      "23\n",
      "7\n"
     ]
    }
   ],
   "source": [
    "list1 = [1, 2, 4, 56, 67, 78, 97, 52, 23, 46, 91, 13, 7]\n",
    "list2 = [10, 2, 5, 57, 67, 79, 96, 52, 25, 47, 95, 14, 7, 101, 23, 44]\n",
    "\n",
    "# Write your program at below\n",
    "for x in list1:\n",
    "         for y in list2:\n",
    "             if x == y:\n",
    "                    print(x)"
   ]
  },
  {
   "cell_type": "markdown",
   "metadata": {},
   "source": [
    "## 6\n",
    "Write a Python program to find the second smallest number in a list."
   ]
  },
  {
   "cell_type": "code",
   "execution_count": 7,
   "metadata": {
    "collapsed": false
   },
   "outputs": [
    {
     "name": "stdout",
     "output_type": "stream",
     "text": [
      "Max number is  101\n",
      "The second smallest number is  12\n"
     ]
    }
   ],
   "source": [
    "numbers = [20, 12, 15, 57, 67, 79, 96, 52, 25, 47, 95, 14, 37, 101, 23, 44, 17, 9]\n",
    "\n",
    "# write your program at below:\n",
    "a1 = max(numbers)\n",
    "a2 = a1\n",
    "print(\"Max number is \", a1)\n",
    "for x in numbers:\n",
    "    if x <= a1:\n",
    "        a1, a2 = x, a1\n",
    "    elif x < a2:\n",
    "        a2 = x\n",
    "print(\"The second smallest number is \", a2)"
   ]
  },
  {
   "cell_type": "markdown",
   "metadata": {},
   "source": [
    "## 7 Another Ancient Chinese Math problem with Chikens:\n",
    "\n",
    "```\n",
    "A rooster cost 5 dollars\n",
    "A hen cost 3 dollars\n",
    "Three baby chikens cost 1 dollars\n",
    "```\n",
    "Now you need to spend exactly $100 to buy exactly 100 chickens. How many rooster, hen and baby chikens should you buy?\n",
    "Note: There might be more than one solutions\n"
   ]
  },
  {
   "cell_type": "code",
   "execution_count": 17,
   "metadata": {
    "collapsed": false
   },
   "outputs": [
    {
     "name": "stdout",
     "output_type": "stream",
     "text": [
      "Roosters: 0,  Hens: 25,  Baby chickens: 75\n",
      "Roosters: 4,  Hens: 18,  Baby chickens: 78\n",
      "Roosters: 8,  Hens: 11,  Baby chickens: 81\n",
      "Roosters: 12,  Hens: 4,  Baby chickens: 84\n"
     ]
    }
   ],
   "source": [
    "for r in range(100):\n",
    "    for h in range(100-r):\n",
    "        if (100-r-h)%3 == 0:\n",
    "            if (5*r + h*3 + (100-r-h)/3) == 100:\n",
    "                print(\"Roosters: %d,  Hens: %d,  Baby chickens: %d\" % (r, h, (100-r-h)))\n",
    "\n",
    "    "
   ]
  },
  {
   "cell_type": "code",
   "execution_count": null,
   "metadata": {
    "collapsed": true
   },
   "outputs": [],
   "source": [
    "## 8 write a program to add line number in front of each line in the string"
   ]
  },
  {
   "cell_type": "code",
   "execution_count": 9,
   "metadata": {
    "collapsed": false
   },
   "outputs": [
    {
     "name": "stdout",
     "output_type": "stream",
     "text": [
      "[01] The Zen of Python\n",
      "[02] by Tim Peters\n",
      "[03] \n",
      "[04] Beautiful is better than ugly.\n",
      "[05] Explicit is better than implicit.\n",
      "[06] Simple is better than complex.\n",
      "[07] Complex is better than complicated.\n",
      "[08] Flat is better than nested.\n",
      "[09] Sparse is better than dense.\n",
      "[10] Readability counts.\n"
     ]
    }
   ],
   "source": [
    "essay = '''The Zen of Python\n",
    "by Tim Peters\n",
    "\n",
    "Beautiful is better than ugly.\n",
    "Explicit is better than implicit.\n",
    "Simple is better than complex.\n",
    "Complex is better than complicated.\n",
    "Flat is better than nested.\n",
    "Sparse is better than dense.\n",
    "Readability counts.'''\n",
    "\n",
    "# write your code at below\n",
    "\n",
    "lines = essay.split('\\n')  # number lines\n",
    "\n",
    "n = 0\n",
    "for i in lines:\n",
    "    n = n + 1\n",
    "    print(\"[%02d] %s\" % (n, i))"
   ]
  },
  {
   "cell_type": "markdown",
   "metadata": {
    "collapsed": true
   },
   "source": [
    "#  Python Programming Competition\n",
    "\n",
    "Hints about string functions that maybe used:\n",
    "\n",
    "\n",
    "* only decrypt/encrypt letters:   isalpha()\n",
    "* convert a string character to a number:     ord()\n",
    "* treat uppercase and lowercase differently: :  isupper(), islower()\n",
    "* convert a number to a character:   chr()\n",
    "\n"
   ]
  },
  {
   "cell_type": "code",
   "execution_count": null,
   "metadata": {
    "collapsed": true
   },
   "outputs": [],
   "source": []
  }
 ],
 "metadata": {
  "anaconda-cloud": {},
  "kernelspec": {
   "display_name": "Python [default]",
   "language": "python",
   "name": "python3"
  },
  "language_info": {
   "codemirror_mode": {
    "name": "ipython",
    "version": 3
   },
   "file_extension": ".py",
   "mimetype": "text/x-python",
   "name": "python",
   "nbconvert_exporter": "python",
   "pygments_lexer": "ipython3",
   "version": "3.5.2"
  }
 },
 "nbformat": 4,
 "nbformat_minor": 1
}
