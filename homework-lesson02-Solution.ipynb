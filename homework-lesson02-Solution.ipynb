{
 "cells": [
  {
   "cell_type": "markdown",
   "metadata": {},
   "source": [
    "## Python Lesson 2 Examples:"
   ]
  },
  {
   "cell_type": "markdown",
   "metadata": {},
   "source": [
    "Convert from one data type to another in Python:\n",
    "\n",
    "*    int(x)    : convert the value of the variable x to integer\n",
    "*    float(x)  : convert the value of the variable x x to float\n",
    "*    str(x)    : convert the value of the variable x to a string"
   ]
  },
  {
   "cell_type": "markdown",
   "metadata": {},
   "source": [
    "print(x)\n",
    "print a string variable's value"
   ]
  },
  {
   "cell_type": "markdown",
   "metadata": {},
   "source": [
    "### Print the square of the number\n",
    "Note how to convert a float number to a string"
   ]
  },
  {
   "cell_type": "code",
   "execution_count": 25,
   "metadata": {
    "collapsed": false
   },
   "outputs": [
    {
     "name": "stdout",
     "output_type": "stream",
     "text": [
      "10.5 * 10.5 = 110.25\n"
     ]
    }
   ],
   "source": [
    "x = 10.5\n",
    "print(str(x) + \" * \" + str(x) + \" = \" + str(x*x))"
   ]
  },
  {
   "cell_type": "markdown",
   "metadata": {},
   "source": [
    "### calculate the area of a circle with a radius of 17"
   ]
  },
  {
   "cell_type": "code",
   "execution_count": 1,
   "metadata": {
    "collapsed": false
   },
   "outputs": [
    {
     "name": "stdout",
     "output_type": "stream",
     "text": [
      "area = 453.9601384437251\n"
     ]
    }
   ],
   "source": [
    "import math\n",
    "radius = 17.0\n",
    "print('area = ' + str(radius*radius*math.pi*0.5))"
   ]
  },
  {
   "cell_type": "markdown",
   "metadata": {},
   "source": [
    "## For your reference: How to format text with Jupyter Notebook \"Markdown\"\n",
    "[Markdown Cheat Sheet](http://nestacms.com/docs/creating-content/markdown-cheat-sheet)"
   ]
  },
  {
   "cell_type": "markdown",
   "metadata": {},
   "source": [
    "## Python Lesson 2 Homework"
   ]
  },
  {
   "cell_type": "markdown",
   "metadata": {},
   "source": [
    "### problem 1\n",
    "Use Python to calculate:  1+2+3+4+5+6+7+8+9+10 = "
   ]
  },
  {
   "cell_type": "code",
   "execution_count": 8,
   "metadata": {
    "collapsed": false
   },
   "outputs": [
    {
     "name": "stdout",
     "output_type": "stream",
     "text": [
      "55\n",
      "55\n",
      "1+2+3+4+5+6+7+8+9+10 = 55\n"
     ]
    }
   ],
   "source": [
    "a=1+2+3+4+5+6+7+8+9+10\n",
    "# good solution\n",
    "print(1+2+3+4+5+6+7+8+9+10)\n",
    "print(a)\n",
    "#Excellent solution\n",
    "print(\"1+2+3+4+5+6+7+8+9+10 = \" + str(a))"
   ]
  },
  {
   "cell_type": "markdown",
   "metadata": {},
   "source": [
    "### problem 2\n",
    "Use Python to calculate: 4*5+60*(20-8)/2 = "
   ]
  },
  {
   "cell_type": "code",
   "execution_count": 7,
   "metadata": {
    "collapsed": false
   },
   "outputs": [
    {
     "name": "stdout",
     "output_type": "stream",
     "text": [
      "380.0\n",
      "4*5+60*(20-8)/2 = 380.0\n"
     ]
    }
   ],
   "source": [
    "print (4*5+60*(20-8)/2)\n",
    "print ('4*5+60*(20-8)/2 = ' + str(4*5+60*(20-8)/2))"
   ]
  },
  {
   "cell_type": "markdown",
   "metadata": {},
   "source": [
    "### problem 3\n",
    "Use three variables, representing a integer, a string and a float, print them in one line.\n",
    "for example, let v1 equal to 100, let v2 equal to string \" and \", v3 equal to 12.345, your program should output:\n",
    "\n",
    "100 and 12.345"
   ]
  },
  {
   "cell_type": "code",
   "execution_count": 12,
   "metadata": {
    "collapsed": false
   },
   "outputs": [
    {
     "name": "stdout",
     "output_type": "stream",
     "text": [
      "100 and 12.345\n"
     ]
    }
   ],
   "source": [
    "print(str(100) + \" and \" + str(12.345))"
   ]
  },
  {
   "cell_type": "markdown",
   "metadata": {},
   "source": [
    "### problem 4\n",
    "Do not use a calculator.\n",
    "Calculate the perimeter of a rectangle with a length of 1233.75 feet and height of 637.84 feet. Your output should be like this (replace the xxx with the actual number):\n",
    "\n",
    "The perimeter of the rectangle is xxx feet.\n",
    "\n",
    "**Challenge question:** how to output float numbers with only two digits after decimal point. for example 12.02 instead of 12.0200001.\n",
    "\n",
    "[Hint on StackOverflow.com](https://stackoverflow.com/questions/455612/limiting-floats-to-two-decimal-points)\n"
   ]
  },
  {
   "cell_type": "code",
   "execution_count": 22,
   "metadata": {
    "collapsed": false
   },
   "outputs": [
    {
     "name": "stdout",
     "output_type": "stream",
     "text": [
      "The perimeter of the rectangle is 3743.1800000000003 feet.\n",
      "The perimeter of the rectangle is 3743.18 feet.\n"
     ]
    }
   ],
   "source": [
    "p = 1233.75*2 + 637.84*2\n",
    "# good solution\n",
    "print(\"The perimeter of the rectangle is \" + str(p) + \" feet.\")\n",
    "\n",
    "# challenge question\n",
    "print(\"The perimeter of the rectangle is %.2f feet.\" % p)"
   ]
  },
  {
   "cell_type": "markdown",
   "metadata": {},
   "source": [
    "### problem 5\n",
    "Do not use a calculator. Calculate the perimeter in feet, of a circle with radius of 121.1 inches."
   ]
  },
  {
   "cell_type": "code",
   "execution_count": 24,
   "metadata": {
    "collapsed": false
   },
   "outputs": [
    {
     "name": "stdout",
     "output_type": "stream",
     "text": [
      "63.407811724953994\n",
      "perimeter in feet is 63.407811724953994\n"
     ]
    }
   ],
   "source": [
    "import math\n",
    "print(2*math.pi*121.1/12)\n",
    "\n",
    "p = 2*math.pi*121.1/12\n",
    "print(\"perimeter in feet is \" + str(p))"
   ]
  },
  {
   "cell_type": "markdown",
   "metadata": {},
   "source": [
    "### problem 6\n",
    "Do not use a calculator.Solve the following word problem in Python:\n",
    "\n",
    "On a hiking trip, it took Nastia 2/3 hours to walk for a half miles and then 900 seconds to run 1.2 miles. Please use a Python program to calculate Nastia's average speed of her whole trip. Print our your answer in the following format, replace 'nnn' with the acutal number you get:\n",
    "\n",
    "Average speed is nnnn miles per minute"
   ]
  },
  {
   "cell_type": "code",
   "execution_count": 4,
   "metadata": {
    "collapsed": false
   },
   "outputs": [
    {
     "name": "stdout",
     "output_type": "stream",
     "text": [
      "Average speed is 0.030909090909090907 miles per minute\n",
      "Average speed is 0.03 miles per minute\n"
     ]
    }
   ],
   "source": [
    "averageSpeed = (0.5 + 1.2)/(2/3*60 + 900/60)\n",
    "print(\"Average speed is \" + str(averageSpeed) + \" miles per minute\")\n",
    "\n",
    "print(\"Average speed is %.2f miles per minute\" % averageSpeed)"
   ]
  },
  {
   "cell_type": "markdown",
   "metadata": {},
   "source": [
    "### problem 7 \n",
    "Use build-in type() function, print out the type of the following items:\n",
    "\n",
    "*  123"
   ]
  },
  {
   "cell_type": "code",
   "execution_count": 1,
   "metadata": {
    "collapsed": false
   },
   "outputs": [
    {
     "data": {
      "text/plain": [
       "int"
      ]
     },
     "execution_count": 1,
     "metadata": {},
     "output_type": "execute_result"
    }
   ],
   "source": [
    "type(123)"
   ]
  },
  {
   "cell_type": "markdown",
   "metadata": {},
   "source": [
    "*  \"123\""
   ]
  },
  {
   "cell_type": "code",
   "execution_count": 35,
   "metadata": {
    "collapsed": false
   },
   "outputs": [
    {
     "data": {
      "text/plain": [
       "str"
      ]
     },
     "execution_count": 35,
     "metadata": {},
     "output_type": "execute_result"
    }
   ],
   "source": [
    "type(\"123\")"
   ]
  },
  {
   "cell_type": "markdown",
   "metadata": {},
   "source": [
    "*  1.23"
   ]
  },
  {
   "cell_type": "code",
   "execution_count": 36,
   "metadata": {
    "collapsed": false
   },
   "outputs": [
    {
     "data": {
      "text/plain": [
       "float"
      ]
     },
     "execution_count": 36,
     "metadata": {},
     "output_type": "execute_result"
    }
   ],
   "source": [
    "type(1.23)"
   ]
  },
  {
   "cell_type": "markdown",
   "metadata": {
    "collapsed": true
   },
   "source": [
    "*  True"
   ]
  },
  {
   "cell_type": "code",
   "execution_count": 37,
   "metadata": {
    "collapsed": false
   },
   "outputs": [
    {
     "data": {
      "text/plain": [
       "bool"
      ]
     },
     "execution_count": 37,
     "metadata": {},
     "output_type": "execute_result"
    }
   ],
   "source": [
    "type(True)"
   ]
  },
  {
   "cell_type": "markdown",
   "metadata": {},
   "source": [
    "*  complex(3, 4)"
   ]
  },
  {
   "cell_type": "code",
   "execution_count": 40,
   "metadata": {
    "collapsed": false
   },
   "outputs": [
    {
     "data": {
      "text/plain": [
       "complex"
      ]
     },
     "execution_count": 40,
     "metadata": {},
     "output_type": "execute_result"
    }
   ],
   "source": [
    "type(complex(3, 4))"
   ]
  },
  {
   "cell_type": "markdown",
   "metadata": {},
   "source": [
    "### Problem 8 (optional)\n",
    "try the following line of code, and see what type is input()?\n",
    "\n",
    "type(input())"
   ]
  },
  {
   "cell_type": "code",
   "execution_count": 33,
   "metadata": {
    "collapsed": false
   },
   "outputs": [
    {
     "name": "stdout",
     "output_type": "stream",
     "text": [
      "12\n"
     ]
    },
    {
     "data": {
      "text/plain": [
       "str"
      ]
     },
     "execution_count": 33,
     "metadata": {},
     "output_type": "execute_result"
    }
   ],
   "source": [
    "type(input())"
   ]
  },
  {
   "cell_type": "code",
   "execution_count": null,
   "metadata": {
    "collapsed": true
   },
   "outputs": [],
   "source": []
  }
 ],
 "metadata": {
  "anaconda-cloud": {},
  "kernelspec": {
   "display_name": "Python [default]",
   "language": "python",
   "name": "python3"
  },
  "language_info": {
   "codemirror_mode": {
    "name": "ipython",
    "version": 3
   },
   "file_extension": ".py",
   "mimetype": "text/x-python",
   "name": "python",
   "nbconvert_exporter": "python",
   "pygments_lexer": "ipython3",
   "version": "3.5.2"
  }
 },
 "nbformat": 4,
 "nbformat_minor": 1
}
