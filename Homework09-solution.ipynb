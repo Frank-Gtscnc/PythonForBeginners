{
 "cells": [
  {
   "cell_type": "markdown",
   "metadata": {},
   "source": [
    "## 1\n",
    "Pretend you are a computer. Running the following Python program in your brain and write down each item in the list named \"num_list\" after each loop:\n",
    "~~~\n",
    "# num_list is a list of numbers\n",
    "# It has initial value of [16, 14, 21, 10]\n",
    "def bubble(num_list):\n",
    "    list_length = len(num_list)\n",
    "    for i in range(0, list_length - 1):\n",
    "        for j in range(0, list_length - 1 - i):\n",
    "            if num_list[j] > num_list[j+1]:\n",
    "                # Now pretend you are a computer, please write each item's value in num_list\n",
    "                temp = num_list[j]\n",
    "                num_list[j] = num_list[j+1]\n",
    "                num_list[j+1] = temp\n",
    "    return num_list\n",
    "~~~"
   ]
  },
  {
   "cell_type": "code",
   "execution_count": null,
   "metadata": {
    "collapsed": true
   },
   "outputs": [],
   "source": [
    "# write your solution of the above problem below\n",
    "# for each \"for loop\", write down the item value in the num_list\n",
    "i=0, j=0, num_list = [16, 14, 21, 10]\n",
    "i=0, j=1, num_list = [?,?,?,?]\n",
    "i=0, j=2, num_list = [,,,]\n",
    "i=\n",
    "i=\n",
    "\n",
    "\n",
    "\n"
   ]
  },
  {
   "cell_type": "markdown",
   "metadata": {},
   "source": [
    "## 2\n",
    "Write a Python class named Circle constructed by a radius and two methods which will compute the area and the perimeter of a circle."
   ]
  },
  {
   "cell_type": "code",
   "execution_count": 2,
   "metadata": {
    "collapsed": false
   },
   "outputs": [
    {
     "name": "stdout",
     "output_type": "stream",
     "text": [
      "Please input the radius of the circle:10\n",
      "The area of the circle is  314.0\n",
      "The perimeter of the circle is  62.800000000000004\n"
     ]
    }
   ],
   "source": [
    "# write your class definition at below:\n",
    "class Circle():\n",
    "    def __init__(self, r):\n",
    "        self.radius = r\n",
    "\n",
    "    def area(self):\n",
    "        return self.radius**2*3.14\n",
    "    \n",
    "    def perimeter(self):\n",
    "        return 2*self.radius*3.14\n",
    "\n",
    "# ------- end of class definition -----------\n",
    "radius = int(input(\"Please input the radius of the circle:\"))\n",
    "NewCircle = Circle(radius)\n",
    "print(\"The area of the circle is \", NewCircle.area())\n",
    "print(\"The perimeter of the circle is \", NewCircle.perimeter())"
   ]
  },
  {
   "cell_type": "markdown",
   "metadata": {},
   "source": [
    "## 3\n",
    "Write a Python class which has two methods get_String and print_String. get_String accept a string from the user and print_String print the string in upper case."
   ]
  },
  {
   "cell_type": "code",
   "execution_count": 7,
   "metadata": {
    "collapsed": false
   },
   "outputs": [
    {
     "name": "stdout",
     "output_type": "stream",
     "text": [
      "Please input a sentence:i am cool!\n",
      "I AM COOL!\n"
     ]
    }
   ],
   "source": [
    "# write your class definition at below:\n",
    "class MyStringClass():\n",
    "    def __init__(self):\n",
    "        self.str1 = \"\"\n",
    "\n",
    "    def get_String(self):\n",
    "        self.str1 = input(\"Please input a sentence:\")\n",
    "\n",
    "    def print_String(self):\n",
    "        print(self.str1.upper())\n",
    "        \n",
    "        \n",
    "# ------- end of class definition -----------\n",
    "str1 = MyStringClass()\n",
    "str1.get_String()\n",
    "str1.print_String()"
   ]
  },
  {
   "cell_type": "markdown",
   "metadata": {},
   "source": [
    "## 4\n",
    "Given a number n, Write a Python program to print out the following pattern, using a nested loop. n is the maximum number of '*' in a row\n",
    "\n",
    "```\n",
    "Example: n = 5\n",
    "\n",
    "*\n",
    "**\n",
    "***\n",
    "****\n",
    "*****\n",
    "****\n",
    "***\n",
    "**\n",
    "*\n",
    "\n",
    "```"
   ]
  },
  {
   "cell_type": "code",
   "execution_count": 6,
   "metadata": {
    "collapsed": false
   },
   "outputs": [
    {
     "name": "stdout",
     "output_type": "stream",
     "text": [
      "please input a number within 20:9\n",
      "\n",
      "*\n",
      "**\n",
      "***\n",
      "****\n",
      "*****\n",
      "******\n",
      "*******\n",
      "********\n",
      "*********\n",
      "********\n",
      "*******\n",
      "******\n",
      "*****\n",
      "****\n",
      "***\n",
      "**\n",
      "*\n"
     ]
    }
   ],
   "source": [
    "n = int(input(\"please input a number within 20:\"))\n",
    "# Write your program at below\n",
    "\n",
    "for i in range(n):\n",
    "    for j in range(i):\n",
    "        print ('*', end=\"\")\n",
    "    print('')\n",
    "\n",
    "for i in range(n,0,-1):\n",
    "    # This demoes another way of printing a row\n",
    "    star = ''\n",
    "    for j in range(i):\n",
    "        star += '*'\n",
    "    print(star)"
   ]
  },
  {
   "cell_type": "markdown",
   "metadata": {
    "collapsed": true
   },
   "source": [
    "## Computer Algorithm-1: Sorting\n",
    "\n",
    "How to write a program to sort a list of element is very important for you to understand computer algorithm. There are many ways of sorting a list. The most easy way is called \"bubble sort\".\n",
    "\n",
    "Read the following article about bubble sort\n",
    "* [Watch what is bubble sort](https://www.youtube.com/watch?v=YHm_4bVOe1s)\n",
    "* [What is bubble sort](https://www.w3resource.com/python-exercises/data-structures-and-algorithms/python-search-and-sorting-exercise-4.php)"
   ]
  },
  {
   "cell_type": "code",
   "execution_count": 5,
   "metadata": {
    "collapsed": false
   },
   "outputs": [
    {
     "name": "stdout",
     "output_type": "stream",
     "text": [
      "[16]\n"
     ]
    }
   ],
   "source": [
    "#this is a function of bubble sort\n",
    "\n",
    "def bubbleSort(num_list):\n",
    "    list_length = len(num_list)\n",
    "    for i in range(0, list_length - 1):\n",
    "        for j in range(0, list_length - 1 - i):\n",
    "            if num_list[j] > num_list[j+1]:\n",
    "                # Now pretend you are a computer, please write each item's value in num_list\n",
    "                print(num_list)\n",
    "                temp = num_list[j]\n",
    "                num_list[j] = num_list[j+1]\n",
    "                num_list[j+1] = temp\n",
    "    return num_list\n",
    "num_list = [16, 14, 21, 10]\n",
    "bubbleSort(num_list)\n",
    "print(num_list)"
   ]
  },
  {
   "cell_type": "markdown",
   "metadata": {},
   "source": [
    "## 5\n",
    "Write a bubble sort function that will sort a list in descending order"
   ]
  },
  {
   "cell_type": "code",
   "execution_count": null,
   "metadata": {
    "collapsed": true
   },
   "outputs": [],
   "source": [
    "def descendingSort(num_list):\n",
    "    # write your program at below\n",
    "    \n",
    "    \n",
    "    \n",
    "# write code to test your sort function above\n",
    "\n"
   ]
  },
  {
   "cell_type": "markdown",
   "metadata": {
    "collapsed": true
   },
   "source": [
    "## Extend Reading (Optional)\n",
    "\n",
    "What is the fastest sorting algorithm?\n",
    "\n",
    "(Quicksort on YouTube)[https://www.youtube.com/watch?v=CB_NCoxzQnk]\n",
    "(Quicksort help-1)[http://pythoncentral.io/quick-sort-implementation-guide/]"
   ]
  }
 ],
 "metadata": {
  "anaconda-cloud": {},
  "kernelspec": {
   "display_name": "Python [default]",
   "language": "python",
   "name": "python3"
  },
  "language_info": {
   "codemirror_mode": {
    "name": "ipython",
    "version": 3
   },
   "file_extension": ".py",
   "mimetype": "text/x-python",
   "name": "python",
   "nbconvert_exporter": "python",
   "pygments_lexer": "ipython3",
   "version": "3.5.2"
  }
 },
 "nbformat": 4,
 "nbformat_minor": 1
}
